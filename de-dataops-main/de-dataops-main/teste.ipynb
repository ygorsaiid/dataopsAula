{
 "cells": [
  {
   "cell_type": "code",
   "execution_count": 8,
   "metadata": {},
   "outputs": [
    {
     "name": "stdout",
     "output_type": "stream",
     "text": [
      "Defaulting to user installation because normal site-packages is not writeable\n",
      "Requirement already satisfied: mysql-connector-python in /home/crleal/.local/lib/python3.11/site-packages (8.3.0)\n",
      "Note: you may need to restart the kernel to use updated packages.\n"
     ]
    }
   ],
   "source": [
    "%pip install mysql-connector-python"
   ]
  },
  {
   "cell_type": "code",
   "execution_count": 20,
   "metadata": {},
   "outputs": [],
   "source": [
    "import mysql.connector"
   ]
  },
  {
   "cell_type": "code",
   "execution_count": 21,
   "metadata": {},
   "outputs": [],
   "source": [
    "con = mysql.connector.connect(\n",
    "            user='root', password='root', port=\"3306\", host = 'localhost', database='db')"
   ]
  },
  {
   "cell_type": "code",
   "execution_count": 22,
   "metadata": {},
   "outputs": [],
   "source": [
    "cursor = con.cursor()\n",
    "cursor.execute('Select * FROM cadastro')\n",
    "cadastro1 = cursor.fetchall()"
   ]
  },
  {
   "cell_type": "code",
   "execution_count": 23,
   "metadata": {},
   "outputs": [
    {
     "data": {
      "text/plain": [
       "[(1,\n",
       "  'female',\n",
       "  'miss',\n",
       "  'maud',\n",
       "  'aulie',\n",
       "  'ikornnes',\n",
       "  'trndelag',\n",
       "  'norway',\n",
       "  'maudaulieexamplecom',\n",
       "  datetime.date(1964, 2, 2),\n",
       "  datetime.datetime(2024, 4, 26, 23, 17, 53)),\n",
       " (2,\n",
       "  'male',\n",
       "  'monsieur',\n",
       "  'carlo',\n",
       "  'lefevre',\n",
       "  'agno',\n",
       "  'st gallen',\n",
       "  'switzerland',\n",
       "  'carlolefevreexamplecom',\n",
       "  datetime.date(1990, 1, 29),\n",
       "  datetime.datetime(2024, 4, 26, 23, 17, 53)),\n",
       " (3,\n",
       "  'male',\n",
       "  'mr',\n",
       "  '',\n",
       "  '',\n",
       "  '',\n",
       "  '',\n",
       "  'iran',\n",
       "  'mhmdaalyrdyynexamplecom',\n",
       "  datetime.date(1948, 5, 9),\n",
       "  datetime.datetime(2024, 4, 26, 23, 17, 53)),\n",
       " (4,\n",
       "  'male',\n",
       "  'mr',\n",
       "  'gerald',\n",
       "  'fletcher',\n",
       "  'santa ana',\n",
       "  'kansas',\n",
       "  'united states',\n",
       "  'geraldfletcherexamplecom',\n",
       "  datetime.date(1978, 6, 28),\n",
       "  datetime.datetime(2024, 4, 26, 23, 17, 53)),\n",
       " (5,\n",
       "  'female',\n",
       "  'miss',\n",
       "  'nyah',\n",
       "  'gielis',\n",
       "  'kwadendamme',\n",
       "  'gelderland',\n",
       "  'netherlands',\n",
       "  'nyahgielisexamplecom',\n",
       "  datetime.date(1982, 8, 14),\n",
       "  datetime.datetime(2024, 4, 26, 23, 17, 53)),\n",
       " (6,\n",
       "  'male',\n",
       "  'mr',\n",
       "  'danyel',\n",
       "  'bramer',\n",
       "  'noordhorn',\n",
       "  'zuidholland',\n",
       "  'netherlands',\n",
       "  'danyelbramerexamplecom',\n",
       "  datetime.date(1997, 7, 5),\n",
       "  datetime.datetime(2024, 4, 26, 23, 17, 53)),\n",
       " (7,\n",
       "  'male',\n",
       "  'mr',\n",
       "  'akseli',\n",
       "  'nevala',\n",
       "  'sulkava',\n",
       "  'kymenlaakso',\n",
       "  'finland',\n",
       "  'akselinevalaexamplecom',\n",
       "  datetime.date(1969, 1, 7),\n",
       "  datetime.datetime(2024, 4, 26, 23, 17, 53)),\n",
       " (8,\n",
       "  'female',\n",
       "  'mrs',\n",
       "  'roberta',\n",
       "  'gardner',\n",
       "  'orange',\n",
       "  'new south wales',\n",
       "  'australia',\n",
       "  'robertagardnerexamplecom',\n",
       "  datetime.date(1986, 8, 7),\n",
       "  datetime.datetime(2024, 4, 26, 23, 17, 53)),\n",
       " (9,\n",
       "  'male',\n",
       "  'mr',\n",
       "  'ruben',\n",
       "  'jackson',\n",
       "  'port macquarie',\n",
       "  'tasmania',\n",
       "  'australia',\n",
       "  'rubenjacksonexamplecom',\n",
       "  datetime.date(1945, 4, 17),\n",
       "  datetime.datetime(2024, 4, 26, 23, 17, 53)),\n",
       " (10,\n",
       "  'female',\n",
       "  'mrs',\n",
       "  'fayina',\n",
       "  'oleshko',\n",
       "  'voznesenivka',\n",
       "  'mikolayivska',\n",
       "  'ukraine',\n",
       "  'fayinaoleshkoexamplecom',\n",
       "  datetime.date(1996, 12, 1),\n",
       "  datetime.datetime(2024, 4, 26, 23, 17, 53))]"
      ]
     },
     "execution_count": 23,
     "metadata": {},
     "output_type": "execute_result"
    }
   ],
   "source": [
    "cadastro1"
   ]
  },
  {
   "cell_type": "code",
   "execution_count": null,
   "metadata": {},
   "outputs": [],
   "source": []
  }
 ],
 "metadata": {
  "kernelspec": {
   "display_name": "Python 3",
   "language": "python",
   "name": "python3"
  },
  "language_info": {
   "codemirror_mode": {
    "name": "ipython",
    "version": 3
   },
   "file_extension": ".py",
   "mimetype": "text/x-python",
   "name": "python",
   "nbconvert_exporter": "python",
   "pygments_lexer": "ipython3",
   "version": "3.11.9"
  }
 },
 "nbformat": 4,
 "nbformat_minor": 2
}
